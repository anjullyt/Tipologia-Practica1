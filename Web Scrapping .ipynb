{
 "cells": [
  {
   "cell_type": "code",
   "execution_count": 4,
   "metadata": {},
   "outputs": [],
   "source": [
    "#Importamos librerias\n",
    "from bs4 import BeautifulSoup\n",
    "import requests\n",
    "import requests.exceptions\n",
    "from urllib.parse import urlsplit\n",
    "from collections import deque\n",
    "import re\n",
    "import pandas as pd\n",
    "import requests\n",
    "from os.path  import basename"
   ]
  },
  {
   "cell_type": "code",
   "execution_count": 27,
   "metadata": {},
   "outputs": [],
   "source": [
    "URL=\"https://fansandbands.org/categoria/camisetas/\""
   ]
  },
  {
   "cell_type": "code",
   "execution_count": 28,
   "metadata": {},
   "outputs": [
    {
     "name": "stdout",
     "output_type": "stream",
     "text": [
      "200\n"
     ]
    }
   ],
   "source": [
    "#Comprobamos que la petición nos devuelve un Status Code = 200\n",
    "print(req.status_code)"
   ]
  },
  {
   "cell_type": "code",
   "execution_count": 22,
   "metadata": {},
   "outputs": [],
   "source": [
    "#Obtenemos las imágenes de la pàgina\n",
    "r = requests.get(\"https://fansandbands.org/categoria/camisetas/\")\n",
    "soup = BeautifulSoup(r.content)\n",
    "for link in soup.select(\"img[src^=http]\"):\n",
    "        lnk = link[\"src\"]\n",
    "        with open(basename(lnk),\"wb\") as f:\n",
    "            f.write(requests.get(lnk).content)"
   ]
  },
  {
   "cell_type": "code",
   "execution_count": 33,
   "metadata": {},
   "outputs": [],
   "source": [
    "#Obtenemos la lista de todos los productos de esta categoria \n",
    "productos = soup.find_all('a', attrs={'class': 'woocommerce-LoopProduct-link woocommerce-loop-product__link'})\n",
    "\n",
    "#Iteramos por cada valor para obtener el precio de cada uno\n",
    "catalog=[]\n",
    "for i in productos:\n",
    "    j = i.find('span', attrs={'class': 'woocommerce-Price-amount amount'})\n",
    "    a=i,j\n",
    "    catalog.append(a)\n",
    "#Creamos dataframe del catalogo\n",
    "cat_df=pd.DataFrame(catalog)\n",
    "#Exportamos csv\n",
    "cat_df.to_csv('camisetas_bandas.csv',index=False) "
   ]
  },
  {
   "cell_type": "code",
   "execution_count": null,
   "metadata": {},
   "outputs": [],
   "source": []
  }
 ],
 "metadata": {
  "kernelspec": {
   "display_name": "Python 3",
   "language": "python",
   "name": "python3"
  },
  "language_info": {
   "codemirror_mode": {
    "name": "ipython",
    "version": 3
   },
   "file_extension": ".py",
   "mimetype": "text/x-python",
   "name": "python",
   "nbconvert_exporter": "python",
   "pygments_lexer": "ipython3",
   "version": "3.7.4"
  }
 },
 "nbformat": 4,
 "nbformat_minor": 2
}
